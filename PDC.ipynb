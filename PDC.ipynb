{
  "nbformat": 4,
  "nbformat_minor": 0,
  "metadata": {
    "colab": {
      "provenance": [],
      "gpuType": "T4"
    },
    "kernelspec": {
      "name": "python3",
      "display_name": "Python 3"
    },
    "language_info": {
      "name": "python"
    },
    "accelerator": "GPU"
  },
  "cells": [
    {
      "cell_type": "code",
      "execution_count": 1,
      "metadata": {
        "id": "fHXpZHe49S9Z"
      },
      "outputs": [],
      "source": [
        "import numpy as np\n",
        "import pandas as pd\n",
        "import tensorflow as tf\n",
        "from tensorflow import keras\n",
        "from tensorflow.keras import layers\n",
        "import threading\n"
      ]
    },
    {
      "cell_type": "code",
      "source": [
        "# IMDb dataset (50,000 reviews, labeled positive/negative)\n",
        "(x_train, y_train), (x_test, y_test) = keras.datasets.imdb.load_data(num_words=10000)\n",
        "\n",
        "# Pad sequences for equal length\n",
        "x_train = keras.preprocessing.sequence.pad_sequences(x_train, maxlen=200)\n",
        "x_test = keras.preprocessing.sequence.pad_sequences(x_test, maxlen=200)\n"
      ],
      "metadata": {
        "colab": {
          "base_uri": "https://localhost:8080/"
        },
        "id": "uv3sm2BN-f9h",
        "outputId": "b1dd7539-12a7-4199-a631-e3eb75999237"
      },
      "execution_count": 2,
      "outputs": [
        {
          "output_type": "stream",
          "name": "stdout",
          "text": [
            "Downloading data from https://storage.googleapis.com/tensorflow/tf-keras-datasets/imdb.npz\n",
            "\u001b[1m17464789/17464789\u001b[0m \u001b[32m━━━━━━━━━━━━━━━━━━━━\u001b[0m\u001b[37m\u001b[0m \u001b[1m1s\u001b[0m 0us/step\n"
          ]
        }
      ]
    },
    {
      "cell_type": "code",
      "source": [
        "def create_model():\n",
        "    model = keras.Sequential([\n",
        "        layers.Embedding(input_dim=10000, output_dim=64, input_length=200),\n",
        "        layers.LSTM(64),\n",
        "        layers.Dense(1, activation='sigmoid')\n",
        "    ])\n",
        "    model.compile(optimizer=\"adam\", loss=\"binary_crossentropy\", metrics=[\"accuracy\"])\n",
        "    return model\n"
      ],
      "metadata": {
        "id": "AY7tG9Qw-wZc"
      },
      "execution_count": 3,
      "outputs": []
    },
    {
      "cell_type": "code",
      "source": [
        "#Part I – Data Parallelism (CUDA)\n",
        "with tf.device('/GPU:0'):   # Forces training on GPU\n",
        "    model = create_model()\n",
        "    history = model.fit(x_train, y_train, batch_size=512, epochs=2, validation_split=0.2)\n"
      ],
      "metadata": {
        "colab": {
          "base_uri": "https://localhost:8080/"
        },
        "id": "XhiEYHH3-3HK",
        "outputId": "fe80c3d4-03d5-4eea-f534-6a94c292f8b4"
      },
      "execution_count": 4,
      "outputs": [
        {
          "output_type": "stream",
          "name": "stdout",
          "text": [
            "Epoch 1/2\n"
          ]
        },
        {
          "output_type": "stream",
          "name": "stderr",
          "text": [
            "/usr/local/lib/python3.12/dist-packages/keras/src/layers/core/embedding.py:97: UserWarning: Argument `input_length` is deprecated. Just remove it.\n",
            "  warnings.warn(\n"
          ]
        },
        {
          "output_type": "stream",
          "name": "stdout",
          "text": [
            "\u001b[1m40/40\u001b[0m \u001b[32m━━━━━━━━━━━━━━━━━━━━\u001b[0m\u001b[37m\u001b[0m \u001b[1m6s\u001b[0m 36ms/step - accuracy: 0.6049 - loss: 0.6700 - val_accuracy: 0.7936 - val_loss: 0.4562\n",
            "Epoch 2/2\n",
            "\u001b[1m40/40\u001b[0m \u001b[32m━━━━━━━━━━━━━━━━━━━━\u001b[0m\u001b[37m\u001b[0m \u001b[1m1s\u001b[0m 22ms/step - accuracy: 0.8343 - loss: 0.3852 - val_accuracy: 0.8442 - val_loss: 0.3669\n"
          ]
        }
      ]
    },
    {
      "cell_type": "code",
      "source": [
        "#Part II – Task Parallelism (Multi-threading)\n",
        "from sklearn.datasets import fetch_openml\n",
        "from sklearn.model_selection import train_test_split\n",
        "from sklearn.preprocessing import StandardScaler, OneHotEncoder\n",
        "from sklearn.compose import ColumnTransformer\n",
        "from sklearn.pipeline import Pipeline\n",
        "import pandas as pd\n",
        "\n",
        "\n",
        "\n",
        "\n",
        "def train_sentiment_model():\n",
        "    with tf.device('/GPU:0'):\n",
        "        model = create_model()\n",
        "        model.fit(x_train, y_train, batch_size=512, epochs=2, validation_split=0.2)\n",
        "        print(\"Sentiment model training completed\")\n",
        "######################################################################3\n",
        "def load_credit_approval_dataset():\n",
        "    data = fetch_openml(\"credit-g\", version=1, as_frame=True)\n",
        "    df = data.frame\n",
        "    return df\n",
        "\n",
        "def fraud_preprocessing_task():\n",
        "    # Load dataset\n",
        "    df = load_credit_approval_dataset()\n",
        "    print(\"Original dataset shape:\", df.shape)\n",
        "    print(\"Class distribution:\\n\", df['class'].value_counts(), \"\\n\")\n",
        "\n",
        "    # Separate features and target\n",
        "    X = df.drop(\"class\", axis=1)\n",
        "    y = (df[\"class\"] == \"bad\").astype(int)  # encode: bad=1 (fraud), good=0\n",
        "\n",
        "    # Identify categorical vs numeric\n",
        "    categorical_cols = X.select_dtypes(include=[\"category\", \"object\"]).columns\n",
        "    numeric_cols = X.select_dtypes(exclude=[\"category\", \"object\"]).columns\n",
        "\n",
        "    # Preprocessing: OneHot for categorical, StandardScaler for numeric\n",
        "    preprocessor = ColumnTransformer(\n",
        "        transformers=[\n",
        "            (\"num\", StandardScaler(), numeric_cols),\n",
        "            (\"cat\", OneHotEncoder(handle_unknown=\"ignore\"), categorical_cols)\n",
        "        ]\n",
        "    )\n",
        "\n",
        "    # Pipeline\n",
        "    pipeline = Pipeline(steps=[(\"preprocessor\", preprocessor)])\n",
        "    X_processed = pipeline.fit_transform(X)\n",
        "\n",
        "    # Train-test split\n",
        "    X_train, X_test, y_train, y_test = train_test_split(\n",
        "        X_processed, y, test_size=0.2, stratify=y, random_state=42\n",
        "    )\n",
        "\n",
        "    print(\"After preprocessing:\")\n",
        "    print(\"Train set:\", X_train.shape, \" Test set:\", X_test.shape)\n",
        "    print(\"Fraud cases in train:\", sum(y_train), \" / in test:\", sum(y_test))\n",
        "\n",
        "    return X_train, X_test, y_train, y_test\n",
        "########################################################3\n",
        "# Run tasks in parallel using threads\n",
        "t1 = threading.Thread(target=train_sentiment_model)\n",
        "t2 = threading.Thread(target=fraud_preprocessing_task)\n",
        "\n",
        "t1.start()\n",
        "t2.start()\n",
        "\n",
        "t1.join()\n",
        "t2.join()\n"
      ],
      "metadata": {
        "colab": {
          "base_uri": "https://localhost:8080/"
        },
        "id": "_fOTBHf0_k2-",
        "outputId": "a36f39f0-4546-4f90-ee9e-9589c714e279"
      },
      "execution_count": 5,
      "outputs": [
        {
          "output_type": "stream",
          "name": "stdout",
          "text": [
            "Epoch 1/2\n",
            "\u001b[1m24/40\u001b[0m \u001b[32m━━━━━━━━━━━━\u001b[0m\u001b[37m━━━━━━━━\u001b[0m \u001b[1m0s\u001b[0m 24ms/step - accuracy: 0.5688 - loss: 0.6860Original dataset shape: (1000, 21)\n",
            "Class distribution:\n",
            " class\n",
            "good    700\n",
            "bad     300\n",
            "Name: count, dtype: int64 \n",
            "\n",
            "\u001b[1m26/40\u001b[0m \u001b[32m━━━━━━━━━━━━━\u001b[0m\u001b[37m━━━━━━━\u001b[0m \u001b[1m0s\u001b[0m 25ms/step - accuracy: 0.5727 - loss: 0.6845After preprocessing:\n",
            "Train set: (800, 61)  Test set: (200, 61)\n",
            "Fraud cases in train: 240  / in test: 60\n",
            "\u001b[1m40/40\u001b[0m \u001b[32m━━━━━━━━━━━━━━━━━━━━\u001b[0m\u001b[37m\u001b[0m \u001b[1m3s\u001b[0m 31ms/step - accuracy: 0.5975 - loss: 0.6713 - val_accuracy: 0.7756 - val_loss: 0.4997\n",
            "Epoch 2/2\n",
            "\u001b[1m40/40\u001b[0m \u001b[32m━━━━━━━━━━━━━━━━━━━━\u001b[0m\u001b[37m\u001b[0m \u001b[1m1s\u001b[0m 22ms/step - accuracy: 0.8168 - loss: 0.4185 - val_accuracy: 0.8430 - val_loss: 0.3616\n",
            "Sentiment model training completed\n"
          ]
        }
      ]
    },
    {
      "cell_type": "code",
      "source": [
        "import threading\n",
        "import time\n",
        "import matplotlib.pyplot as plt\n",
        "\n",
        "# --- Your Tasks ---\n",
        "def train_sentiment_model():\n",
        "    start = time.time()\n",
        "    with tf.device('/GPU:0'):\n",
        "        model = create_model()\n",
        "        model.fit(x_train, y_train, batch_size=512, epochs=2, validation_split=0.2)\n",
        "        print(\"Sentiment model training completed\")\n",
        "    end = time.time()\n",
        "    task_times[\"Sentiment Model\"] = (start, end)\n",
        "\n",
        "def load_credit_approval_dataset():\n",
        "    data = fetch_openml(\"credit-g\", version=1, as_frame=True)\n",
        "    df = data.frame\n",
        "    return df\n",
        "\n",
        "def fraud_preprocessing_task():\n",
        "    start = time.time()\n",
        "    # Load dataset\n",
        "    df = load_credit_approval_dataset()\n",
        "    print(\"Original dataset shape:\", df.shape)\n",
        "    print(\"Class distribution:\\n\", df['class'].value_counts(), \"\\n\")\n",
        "\n",
        "    # Separate features and target\n",
        "    X = df.drop(\"class\", axis=1)\n",
        "    y = (df[\"class\"] == \"bad\").astype(int)  # encode: bad=1 (fraud), good=0\n",
        "\n",
        "    # Identify categorical vs numeric\n",
        "    categorical_cols = X.select_dtypes(include=[\"category\", \"object\"]).columns\n",
        "    numeric_cols = X.select_dtypes(exclude=[\"category\", \"object\"]).columns\n",
        "\n",
        "    # Preprocessing: OneHot for categorical, StandardScaler for numeric\n",
        "    preprocessor = ColumnTransformer(\n",
        "        transformers=[\n",
        "            (\"num\", StandardScaler(), numeric_cols),\n",
        "            (\"cat\", OneHotEncoder(handle_unknown=\"ignore\"), categorical_cols)\n",
        "        ]\n",
        "    )\n",
        "\n",
        "    # Pipeline\n",
        "    pipeline = Pipeline(steps=[(\"preprocessor\", preprocessor)])\n",
        "    X_processed = pipeline.fit_transform(X)\n",
        "\n",
        "    # Train-test split\n",
        "    X_train, X_test, y_train, y_test = train_test_split(\n",
        "        X_processed, y, test_size=0.2, stratify=y, random_state=42\n",
        "    )\n",
        "\n",
        "    print(\"After preprocessing:\")\n",
        "    print(\"Train set:\", X_train.shape, \" Test set:\", X_test.shape)\n",
        "    print(\"Fraud cases in train:\", sum(y_train), \" / in test:\", sum(y_test))\n",
        "    end = time.time()\n",
        "    task_times[\"Fraud Preprocessing\"] = (start, end)\n",
        "\n",
        "    return X_train, X_test, y_train, y_test\n",
        "\n",
        "\n",
        "# Dictionary to store execution times\n",
        "task_times = {}\n",
        "\n",
        "# Run threads\n",
        "t1 = threading.Thread(target=train_sentiment_model)\n",
        "t2 = threading.Thread(target=fraud_preprocessing_task)\n",
        "\n",
        "t1.start()\n",
        "t2.start()\n",
        "t1.join()\n",
        "t2.join()\n",
        "\n",
        "# --- Plot Gantt Chart ---\n",
        "fig, ax = plt.subplots(figsize=(8,4))\n",
        "\n",
        "colors = [\"skyblue\", \"lightgreen\"]\n",
        "for i, (task, (start, end)) in enumerate(task_times.items()):\n",
        "    ax.barh(y=i, width=end-start, left=start, height=0.4, color=colors[i], edgecolor=\"black\")\n",
        "    ax.text((start+end)/2, i, task, ha=\"center\", va=\"center\", fontsize=10, color=\"black\")\n",
        "\n",
        "ax.set_yticks([0, 1])\n",
        "ax.set_yticklabels(list(task_times.keys()))\n",
        "ax.set_xlabel(\"Time (seconds)\")\n",
        "ax.set_title(\"Parallel Task Execution Timeline\")\n",
        "plt.tight_layout()\n",
        "plt.show()\n"
      ],
      "metadata": {
        "colab": {
          "base_uri": "https://localhost:8080/",
          "height": 722
        },
        "id": "2tNoag1z1X-W",
        "outputId": "21d22e1a-5fe2-4622-a016-7de9ddd44a78"
      },
      "execution_count": 6,
      "outputs": [
        {
          "output_type": "stream",
          "name": "stdout",
          "text": [
            "Original dataset shape: (1000, 21)\n",
            "Class distribution:\n",
            " class\n",
            "good    700\n",
            "bad     300\n",
            "Name: count, dtype: int64 \n",
            "\n",
            "After preprocessing:\n",
            "Train set: (800, 61)  Test set: (200, 61)\n",
            "Fraud cases in train: 240  / in test: 60\n",
            "Epoch 1/2\n"
          ]
        },
        {
          "output_type": "stream",
          "name": "stderr",
          "text": [
            "/usr/local/lib/python3.12/dist-packages/keras/src/layers/core/embedding.py:97: UserWarning: Argument `input_length` is deprecated. Just remove it.\n",
            "  warnings.warn(\n"
          ]
        },
        {
          "output_type": "stream",
          "name": "stdout",
          "text": [
            "\u001b[1m40/40\u001b[0m \u001b[32m━━━━━━━━━━━━━━━━━━━━\u001b[0m\u001b[37m\u001b[0m \u001b[1m2s\u001b[0m 28ms/step - accuracy: 0.5684 - loss: 0.6715 - val_accuracy: 0.7988 - val_loss: 0.4448\n",
            "Epoch 2/2\n",
            "\u001b[1m40/40\u001b[0m \u001b[32m━━━━━━━━━━━━━━━━━━━━\u001b[0m\u001b[37m\u001b[0m \u001b[1m1s\u001b[0m 22ms/step - accuracy: 0.8486 - loss: 0.3638 - val_accuracy: 0.8578 - val_loss: 0.3374\n",
            "Sentiment model training completed\n"
          ]
        },
        {
          "output_type": "display_data",
          "data": {
            "text/plain": [
              "<Figure size 800x400 with 1 Axes>"
            ],
            "image/png": "[encoded data removed]"
          },
          "metadata": {}
        }
      ]
    }
  ]
}